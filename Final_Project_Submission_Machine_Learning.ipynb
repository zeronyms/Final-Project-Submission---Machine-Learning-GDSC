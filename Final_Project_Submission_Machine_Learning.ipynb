{
  "cells": [
    {
      "cell_type": "markdown",
      "metadata": {
        "id": "1ecEt2TLpR2b"
      },
      "source": [
        "# Final Project Machine Learning !\n",
        "\n",
        "1. Pilih Dataset : https://drive.google.com/drive/folders/1BCpAunmFTO5V85X6Qrzxs6QGDtGrv0JU?usp=sharing\n",
        "2. Implement Data analisis pada salah satu dari dataset tersebut \n",
        "\n",
        "What to do ? \n",
        "1. Do Exploratory Data Analysis (at least 1 visualisasi data)\n",
        "2. Do Data Preprocessing (explain each step why u do the preprocessing)\n",
        "3. Do Feature Engineering (Explain why u choose that Feature in ur analysis)\n",
        "4. Modelling \n",
        "5. Model Evaluation \n",
        "6. Summary (Kesimpulan apa yang kamu dapat dari analisis yang kalian lakuin dan hasil nya apa)\n",
        "\n",
        "Submission Form: \n",
        "- https://forms.gle/87UbNHKhdccn8CSh6\n"
      ]
    },
    {
      "cell_type": "markdown",
      "metadata": {
        "id": "ORHepILjpdLd"
      },
      "source": [
        "## import library"
      ]
    },
    {
      "cell_type": "code",
      "execution_count": 508,
      "metadata": {
        "id": "87zsZ00XlmYd"
      },
      "outputs": [],
      "source": [
        "import pandas as pd\n",
        "import matplotlib.pyplot as plt\n",
        "import seaborn as sns\n",
        "from sklearn.metrics import accuracy_score"
      ]
    },
    {
      "cell_type": "markdown",
      "metadata": {
        "id": "hAa_oHxHph0_"
      },
      "source": [
        "### read dataset\n"
      ]
    },
    {
      "cell_type": "code",
      "execution_count": 509,
      "metadata": {
        "colab": {
          "base_uri": "https://localhost:8080/",
          "height": 256
        },
        "id": "wLwsDa57oZCS",
        "outputId": "9ad22409-9d11-40ab-b98f-3560501d3163"
      },
      "outputs": [
        {
          "data": {
            "application/vnd.google.colaboratory.intrinsic+json": {
              "type": "dataframe",
              "variable_name": "df1"
            },
            "text/html": [
              "\n",
              "  <div id=\"df-c43ff417-58a1-4fe0-822f-f83cdadc9e70\" class=\"colab-df-container\">\n",
              "    <div>\n",
              "<style scoped>\n",
              "    .dataframe tbody tr th:only-of-type {\n",
              "        vertical-align: middle;\n",
              "    }\n",
              "\n",
              "    .dataframe tbody tr th {\n",
              "        vertical-align: top;\n",
              "    }\n",
              "\n",
              "    .dataframe thead th {\n",
              "        text-align: right;\n",
              "    }\n",
              "</style>\n",
              "<table border=\"1\" class=\"dataframe\">\n",
              "  <thead>\n",
              "    <tr style=\"text-align: right;\">\n",
              "      <th></th>\n",
              "      <th>x1</th>\n",
              "      <th>x2</th>\n",
              "      <th>x3</th>\n",
              "      <th>x4</th>\n",
              "      <th>x5</th>\n",
              "      <th>x6</th>\n",
              "      <th>x7</th>\n",
              "      <th>x8</th>\n",
              "      <th>x9</th>\n",
              "      <th>x10</th>\n",
              "      <th>...</th>\n",
              "      <th>x248</th>\n",
              "      <th>x249</th>\n",
              "      <th>x250</th>\n",
              "      <th>x251</th>\n",
              "      <th>x252</th>\n",
              "      <th>x253</th>\n",
              "      <th>x254</th>\n",
              "      <th>x255</th>\n",
              "      <th>x256</th>\n",
              "      <th>label</th>\n",
              "    </tr>\n",
              "  </thead>\n",
              "  <tbody>\n",
              "    <tr>\n",
              "      <th>0</th>\n",
              "      <td>-1.032690</td>\n",
              "      <td>2.096221</td>\n",
              "      <td>0.384194</td>\n",
              "      <td>-1.214555</td>\n",
              "      <td>2.432575</td>\n",
              "      <td>1.069743</td>\n",
              "      <td>-1.076878</td>\n",
              "      <td>2.140959</td>\n",
              "      <td>0.403971</td>\n",
              "      <td>-1.039528</td>\n",
              "      <td>...</td>\n",
              "      <td>2.423807</td>\n",
              "      <td>0.833363</td>\n",
              "      <td>-0.932956</td>\n",
              "      <td>2.047133</td>\n",
              "      <td>0.089361</td>\n",
              "      <td>-1.062281</td>\n",
              "      <td>2.080691</td>\n",
              "      <td>0.412019</td>\n",
              "      <td>-1.244573</td>\n",
              "      <td>3</td>\n",
              "    </tr>\n",
              "    <tr>\n",
              "      <th>1</th>\n",
              "      <td>-0.509585</td>\n",
              "      <td>-0.896533</td>\n",
              "      <td>-0.465612</td>\n",
              "      <td>0.033544</td>\n",
              "      <td>-0.781463</td>\n",
              "      <td>-0.934908</td>\n",
              "      <td>0.061976</td>\n",
              "      <td>-0.712155</td>\n",
              "      <td>-0.929289</td>\n",
              "      <td>-0.624238</td>\n",
              "      <td>...</td>\n",
              "      <td>-0.783508</td>\n",
              "      <td>-0.877666</td>\n",
              "      <td>0.084089</td>\n",
              "      <td>-0.718668</td>\n",
              "      <td>-0.965767</td>\n",
              "      <td>-0.567989</td>\n",
              "      <td>-0.911335</td>\n",
              "      <td>-0.415529</td>\n",
              "      <td>0.167377</td>\n",
              "      <td>3</td>\n",
              "    </tr>\n",
              "    <tr>\n",
              "      <th>2</th>\n",
              "      <td>-1.032690</td>\n",
              "      <td>-0.896533</td>\n",
              "      <td>1.243594</td>\n",
              "      <td>-1.101241</td>\n",
              "      <td>-0.781463</td>\n",
              "      <td>-0.934908</td>\n",
              "      <td>-0.355857</td>\n",
              "      <td>-0.020836</td>\n",
              "      <td>-0.726172</td>\n",
              "      <td>-1.039528</td>\n",
              "      <td>...</td>\n",
              "      <td>-0.783508</td>\n",
              "      <td>-0.851601</td>\n",
              "      <td>-0.481456</td>\n",
              "      <td>0.041508</td>\n",
              "      <td>-0.623651</td>\n",
              "      <td>-1.062281</td>\n",
              "      <td>-0.911335</td>\n",
              "      <td>1.288949</td>\n",
              "      <td>-1.201469</td>\n",
              "      <td>0</td>\n",
              "    </tr>\n",
              "    <tr>\n",
              "      <th>3</th>\n",
              "      <td>-1.024914</td>\n",
              "      <td>1.367049</td>\n",
              "      <td>0.014966</td>\n",
              "      <td>-1.141605</td>\n",
              "      <td>1.102526</td>\n",
              "      <td>0.197138</td>\n",
              "      <td>-0.921322</td>\n",
              "      <td>1.064377</td>\n",
              "      <td>0.235659</td>\n",
              "      <td>-0.973558</td>\n",
              "      <td>...</td>\n",
              "      <td>1.228601</td>\n",
              "      <td>0.089344</td>\n",
              "      <td>-0.932956</td>\n",
              "      <td>1.093751</td>\n",
              "      <td>0.017282</td>\n",
              "      <td>-0.920086</td>\n",
              "      <td>1.336901</td>\n",
              "      <td>0.012367</td>\n",
              "      <td>-0.990998</td>\n",
              "      <td>3</td>\n",
              "    </tr>\n",
              "    <tr>\n",
              "      <th>4</th>\n",
              "      <td>1.585219</td>\n",
              "      <td>-0.896533</td>\n",
              "      <td>-0.782318</td>\n",
              "      <td>0.692780</td>\n",
              "      <td>-0.781463</td>\n",
              "      <td>0.732274</td>\n",
              "      <td>-0.113010</td>\n",
              "      <td>-1.048795</td>\n",
              "      <td>1.248580</td>\n",
              "      <td>1.636419</td>\n",
              "      <td>...</td>\n",
              "      <td>-0.783508</td>\n",
              "      <td>0.902548</td>\n",
              "      <td>0.000080</td>\n",
              "      <td>-1.049062</td>\n",
              "      <td>1.518648</td>\n",
              "      <td>1.607938</td>\n",
              "      <td>-0.911335</td>\n",
              "      <td>-0.824106</td>\n",
              "      <td>0.663292</td>\n",
              "      <td>0</td>\n",
              "    </tr>\n",
              "  </tbody>\n",
              "</table>\n",
              "<p>5 rows × 257 columns</p>\n",
              "</div>\n",
              "    <div class=\"colab-df-buttons\">\n",
              "\n",
              "  <div class=\"colab-df-container\">\n",
              "    <button class=\"colab-df-convert\" onclick=\"convertToInteractive('df-c43ff417-58a1-4fe0-822f-f83cdadc9e70')\"\n",
              "            title=\"Convert this dataframe to an interactive table.\"\n",
              "            style=\"display:none;\">\n",
              "\n",
              "  <svg xmlns=\"http://www.w3.org/2000/svg\" height=\"24px\" viewBox=\"0 -960 960 960\">\n",
              "    <path d=\"M120-120v-720h720v720H120Zm60-500h600v-160H180v160Zm220 220h160v-160H400v160Zm0 220h160v-160H400v160ZM180-400h160v-160H180v160Zm440 0h160v-160H620v160ZM180-180h160v-160H180v160Zm440 0h160v-160H620v160Z\"/>\n",
              "  </svg>\n",
              "    </button>\n",
              "\n",
              "  <style>\n",
              "    .colab-df-container {\n",
              "      display:flex;\n",
              "      gap: 12px;\n",
              "    }\n",
              "\n",
              "    .colab-df-convert {\n",
              "      background-color: #E8F0FE;\n",
              "      border: none;\n",
              "      border-radius: 50%;\n",
              "      cursor: pointer;\n",
              "      display: none;\n",
              "      fill: #1967D2;\n",
              "      height: 32px;\n",
              "      padding: 0 0 0 0;\n",
              "      width: 32px;\n",
              "    }\n",
              "\n",
              "    .colab-df-convert:hover {\n",
              "      background-color: #E2EBFA;\n",
              "      box-shadow: 0px 1px 2px rgba(60, 64, 67, 0.3), 0px 1px 3px 1px rgba(60, 64, 67, 0.15);\n",
              "      fill: #174EA6;\n",
              "    }\n",
              "\n",
              "    .colab-df-buttons div {\n",
              "      margin-bottom: 4px;\n",
              "    }\n",
              "\n",
              "    [theme=dark] .colab-df-convert {\n",
              "      background-color: #3B4455;\n",
              "      fill: #D2E3FC;\n",
              "    }\n",
              "\n",
              "    [theme=dark] .colab-df-convert:hover {\n",
              "      background-color: #434B5C;\n",
              "      box-shadow: 0px 1px 3px 1px rgba(0, 0, 0, 0.15);\n",
              "      filter: drop-shadow(0px 1px 2px rgba(0, 0, 0, 0.3));\n",
              "      fill: #FFFFFF;\n",
              "    }\n",
              "  </style>\n",
              "\n",
              "    <script>\n",
              "      const buttonEl =\n",
              "        document.querySelector('#df-c43ff417-58a1-4fe0-822f-f83cdadc9e70 button.colab-df-convert');\n",
              "      buttonEl.style.display =\n",
              "        google.colab.kernel.accessAllowed ? 'block' : 'none';\n",
              "\n",
              "      async function convertToInteractive(key) {\n",
              "        const element = document.querySelector('#df-c43ff417-58a1-4fe0-822f-f83cdadc9e70');\n",
              "        const dataTable =\n",
              "          await google.colab.kernel.invokeFunction('convertToInteractive',\n",
              "                                                    [key], {});\n",
              "        if (!dataTable) return;\n",
              "\n",
              "        const docLinkHtml = 'Like what you see? Visit the ' +\n",
              "          '<a target=\"_blank\" href=https://colab.research.google.com/notebooks/data_table.ipynb>data table notebook</a>'\n",
              "          + ' to learn more about interactive tables.';\n",
              "        element.innerHTML = '';\n",
              "        dataTable['output_type'] = 'display_data';\n",
              "        await google.colab.output.renderOutput(dataTable, element);\n",
              "        const docLink = document.createElement('div');\n",
              "        docLink.innerHTML = docLinkHtml;\n",
              "        element.appendChild(docLink);\n",
              "      }\n",
              "    </script>\n",
              "  </div>\n",
              "\n",
              "\n",
              "<div id=\"df-297b66a3-30ab-44cf-ab7b-56363e9c16c3\">\n",
              "  <button class=\"colab-df-quickchart\" onclick=\"quickchart('df-297b66a3-30ab-44cf-ab7b-56363e9c16c3')\"\n",
              "            title=\"Suggest charts\"\n",
              "            style=\"display:none;\">\n",
              "\n",
              "<svg xmlns=\"http://www.w3.org/2000/svg\" height=\"24px\"viewBox=\"0 0 24 24\"\n",
              "     width=\"24px\">\n",
              "    <g>\n",
              "        <path d=\"M19 3H5c-1.1 0-2 .9-2 2v14c0 1.1.9 2 2 2h14c1.1 0 2-.9 2-2V5c0-1.1-.9-2-2-2zM9 17H7v-7h2v7zm4 0h-2V7h2v10zm4 0h-2v-4h2v4z\"/>\n",
              "    </g>\n",
              "</svg>\n",
              "  </button>\n",
              "\n",
              "<style>\n",
              "  .colab-df-quickchart {\n",
              "      --bg-color: #E8F0FE;\n",
              "      --fill-color: #1967D2;\n",
              "      --hover-bg-color: #E2EBFA;\n",
              "      --hover-fill-color: #174EA6;\n",
              "      --disabled-fill-color: #AAA;\n",
              "      --disabled-bg-color: #DDD;\n",
              "  }\n",
              "\n",
              "  [theme=dark] .colab-df-quickchart {\n",
              "      --bg-color: #3B4455;\n",
              "      --fill-color: #D2E3FC;\n",
              "      --hover-bg-color: #434B5C;\n",
              "      --hover-fill-color: #FFFFFF;\n",
              "      --disabled-bg-color: #3B4455;\n",
              "      --disabled-fill-color: #666;\n",
              "  }\n",
              "\n",
              "  .colab-df-quickchart {\n",
              "    background-color: var(--bg-color);\n",
              "    border: none;\n",
              "    border-radius: 50%;\n",
              "    cursor: pointer;\n",
              "    display: none;\n",
              "    fill: var(--fill-color);\n",
              "    height: 32px;\n",
              "    padding: 0;\n",
              "    width: 32px;\n",
              "  }\n",
              "\n",
              "  .colab-df-quickchart:hover {\n",
              "    background-color: var(--hover-bg-color);\n",
              "    box-shadow: 0 1px 2px rgba(60, 64, 67, 0.3), 0 1px 3px 1px rgba(60, 64, 67, 0.15);\n",
              "    fill: var(--button-hover-fill-color);\n",
              "  }\n",
              "\n",
              "  .colab-df-quickchart-complete:disabled,\n",
              "  .colab-df-quickchart-complete:disabled:hover {\n",
              "    background-color: var(--disabled-bg-color);\n",
              "    fill: var(--disabled-fill-color);\n",
              "    box-shadow: none;\n",
              "  }\n",
              "\n",
              "  .colab-df-spinner {\n",
              "    border: 2px solid var(--fill-color);\n",
              "    border-color: transparent;\n",
              "    border-bottom-color: var(--fill-color);\n",
              "    animation:\n",
              "      spin 1s steps(1) infinite;\n",
              "  }\n",
              "\n",
              "  @keyframes spin {\n",
              "    0% {\n",
              "      border-color: transparent;\n",
              "      border-bottom-color: var(--fill-color);\n",
              "      border-left-color: var(--fill-color);\n",
              "    }\n",
              "    20% {\n",
              "      border-color: transparent;\n",
              "      border-left-color: var(--fill-color);\n",
              "      border-top-color: var(--fill-color);\n",
              "    }\n",
              "    30% {\n",
              "      border-color: transparent;\n",
              "      border-left-color: var(--fill-color);\n",
              "      border-top-color: var(--fill-color);\n",
              "      border-right-color: var(--fill-color);\n",
              "    }\n",
              "    40% {\n",
              "      border-color: transparent;\n",
              "      border-right-color: var(--fill-color);\n",
              "      border-top-color: var(--fill-color);\n",
              "    }\n",
              "    60% {\n",
              "      border-color: transparent;\n",
              "      border-right-color: var(--fill-color);\n",
              "    }\n",
              "    80% {\n",
              "      border-color: transparent;\n",
              "      border-right-color: var(--fill-color);\n",
              "      border-bottom-color: var(--fill-color);\n",
              "    }\n",
              "    90% {\n",
              "      border-color: transparent;\n",
              "      border-bottom-color: var(--fill-color);\n",
              "    }\n",
              "  }\n",
              "</style>\n",
              "\n",
              "  <script>\n",
              "    async function quickchart(key) {\n",
              "      const quickchartButtonEl =\n",
              "        document.querySelector('#' + key + ' button');\n",
              "      quickchartButtonEl.disabled = true;  // To prevent multiple clicks.\n",
              "      quickchartButtonEl.classList.add('colab-df-spinner');\n",
              "      try {\n",
              "        const charts = await google.colab.kernel.invokeFunction(\n",
              "            'suggestCharts', [key], {});\n",
              "      } catch (error) {\n",
              "        console.error('Error during call to suggestCharts:', error);\n",
              "      }\n",
              "      quickchartButtonEl.classList.remove('colab-df-spinner');\n",
              "      quickchartButtonEl.classList.add('colab-df-quickchart-complete');\n",
              "    }\n",
              "    (() => {\n",
              "      let quickchartButtonEl =\n",
              "        document.querySelector('#df-297b66a3-30ab-44cf-ab7b-56363e9c16c3 button');\n",
              "      quickchartButtonEl.style.display =\n",
              "        google.colab.kernel.accessAllowed ? 'block' : 'none';\n",
              "    })();\n",
              "  </script>\n",
              "</div>\n",
              "    </div>\n",
              "  </div>\n"
            ],
            "text/plain": [
              "         x1        x2        x3        x4        x5        x6        x7  \\\n",
              "0 -1.032690  2.096221  0.384194 -1.214555  2.432575  1.069743 -1.076878   \n",
              "1 -0.509585 -0.896533 -0.465612  0.033544 -0.781463 -0.934908  0.061976   \n",
              "2 -1.032690 -0.896533  1.243594 -1.101241 -0.781463 -0.934908 -0.355857   \n",
              "3 -1.024914  1.367049  0.014966 -1.141605  1.102526  0.197138 -0.921322   \n",
              "4  1.585219 -0.896533 -0.782318  0.692780 -0.781463  0.732274 -0.113010   \n",
              "\n",
              "         x8        x9       x10  ...      x248      x249      x250      x251  \\\n",
              "0  2.140959  0.403971 -1.039528  ...  2.423807  0.833363 -0.932956  2.047133   \n",
              "1 -0.712155 -0.929289 -0.624238  ... -0.783508 -0.877666  0.084089 -0.718668   \n",
              "2 -0.020836 -0.726172 -1.039528  ... -0.783508 -0.851601 -0.481456  0.041508   \n",
              "3  1.064377  0.235659 -0.973558  ...  1.228601  0.089344 -0.932956  1.093751   \n",
              "4 -1.048795  1.248580  1.636419  ... -0.783508  0.902548  0.000080 -1.049062   \n",
              "\n",
              "       x252      x253      x254      x255      x256  label  \n",
              "0  0.089361 -1.062281  2.080691  0.412019 -1.244573      3  \n",
              "1 -0.965767 -0.567989 -0.911335 -0.415529  0.167377      3  \n",
              "2 -0.623651 -1.062281 -0.911335  1.288949 -1.201469      0  \n",
              "3  0.017282 -0.920086  1.336901  0.012367 -0.990998      3  \n",
              "4  1.518648  1.607938 -0.911335 -0.824106  0.663292      0  \n",
              "\n",
              "[5 rows x 257 columns]"
            ]
          },
          "execution_count": 509,
          "metadata": {},
          "output_type": "execute_result"
        }
      ],
      "source": [
        "df1 = pd.read_csv('Dataset_1.csv')\n",
        "df1.head()"
      ]
    },
    {
      "cell_type": "code",
      "execution_count": 510,
      "metadata": {
        "colab": {
          "base_uri": "https://localhost:8080/"
        },
        "id": "66poFNk8ovyT",
        "outputId": "b9b667b2-c797-431c-b135-b821ce2339e2"
      },
      "outputs": [
        {
          "data": {
            "text/plain": [
              "array([3, 0, 2, 1])"
            ]
          },
          "execution_count": 510,
          "metadata": {},
          "output_type": "execute_result"
        }
      ],
      "source": [
        "df1['label'].unique()"
      ]
    },
    {
      "cell_type": "markdown",
      "metadata": {
        "id": "mpEr1Jtjpoxm"
      },
      "source": [
        "## Exploratory Data Analysis"
      ]
    },
    {
      "cell_type": "code",
      "execution_count": 511,
      "metadata": {
        "colab": {
          "base_uri": "https://localhost:8080/",
          "height": 872
        },
        "id": "xQpclyVYqLDZ",
        "outputId": "d62b54a8-936c-412d-89ea-fb0ba1c7b56d"
      },
      "outputs": [
        {
          "data": {
            "image/png": "[encoded data removed]",
            "text/plain": [
              "<Figure size 1200x1000 with 1 Axes>"
            ]
          },
          "metadata": {},
          "output_type": "display_data"
        }
      ],
      "source": [
        "correlation = df1.corr()\n",
        "\n",
        "correlation_with_label = correlation['label'].sort_values(ascending=False)\n",
        "\n",
        "correlation_with_label = correlation_with_label.drop('label')\n",
        "\n",
        "plt.figure(figsize=(12, 10))\n",
        "sns.heatmap(correlation_with_label.to_frame(), annot=True, cmap='coolwarm', cbar=False)\n",
        "plt.title(\"Correlation Matrix between Features and Label\")\n",
        "plt.xlabel(\"Label\")\n",
        "plt.ylabel(\"Features\")\n",
        "plt.show()"
      ]
    },
    {
      "cell_type": "markdown",
      "metadata": {
        "id": "WPnfHN__ZEu5"
      },
      "source": [
        "Melalui visualisasi corelation maps, dapat dilihat fitur mana saja yang memiliki hubungan yang cukup tinggi terhadap label."
      ]
    },
    {
      "cell_type": "markdown",
      "metadata": {
        "id": "a2ID69yOv8hH"
      },
      "source": [
        "## Data Preprocessing\n"
      ]
    },
    {
      "cell_type": "code",
      "execution_count": 512,
      "metadata": {
        "colab": {
          "base_uri": "https://localhost:8080/"
        },
        "id": "lrEIgzf3qNjp",
        "outputId": "fe714a0c-4d73-46a1-b42b-386cfcb47f91"
      },
      "outputs": [
        {
          "name": "stdout",
          "output_type": "stream",
          "text": [
            "Missing Data:\n",
            " x1       0\n",
            "x2       0\n",
            "x3       0\n",
            "x4       0\n",
            "x5       0\n",
            "        ..\n",
            "x253     0\n",
            "x254     0\n",
            "x255     0\n",
            "x256     0\n",
            "label    0\n",
            "Length: 257, dtype: int64\n"
          ]
        }
      ],
      "source": [
        "missing_data = df1.isna().sum()\n",
        "print(\"Missing Data:\\n\", missing_data)"
      ]
    },
    {
      "cell_type": "markdown",
      "metadata": {
        "id": "zWDb488mZk_p"
      },
      "source": [
        "Tahap preprocessing untuk melakukan pemeriksaan terhadap data yang hilang (null), setelah di periksa tidak ada data yang memiliki nilai null dalam dataset"
      ]
    },
    {
      "cell_type": "code",
      "execution_count": 513,
      "metadata": {
        "colab": {
          "base_uri": "https://localhost:8080/"
        },
        "id": "pGxalemFxrQ7",
        "outputId": "9bcb77d0-f315-4908-b7b3-52d090d8be89"
      },
      "outputs": [
        {
          "name": "stdout",
          "output_type": "stream",
          "text": [
            "Jumlah data yang hilang:  0\n"
          ]
        }
      ],
      "source": [
        "# Menghapus baris dengan nilai yang hilang\n",
        "df1_cleaned = df1.dropna()\n",
        "\n",
        "print(\"Jumlah data yang hilang: \", len(df1) - len(df1_cleaned))"
      ]
    },
    {
      "cell_type": "code",
      "execution_count": 514,
      "metadata": {
        "colab": {
          "base_uri": "https://localhost:8080/"
        },
        "id": "kh_3t37DptHU",
        "outputId": "8be43ae2-e73f-4641-af06-a8db510bd8cc"
      },
      "outputs": [
        {
          "name": "stdout",
          "output_type": "stream",
          "text": [
            "                x1           x2           x3           x4           x5  \\\n",
            "count  3264.000000  3264.000000  3264.000000  3264.000000  3264.000000   \n",
            "mean     -0.108383     0.109415     0.012731    -0.038641     0.025888   \n",
            "std       0.918837     1.056640     0.940577     1.073387     1.036104   \n",
            "min      -1.032690    -0.896533    -1.285932    -1.214555    -0.781463   \n",
            "25%      -1.032690    -0.896533    -0.700087    -1.015734    -0.781463   \n",
            "50%      -0.332834    -0.207360    -0.011766    -0.083122    -0.574530   \n",
            "75%       0.618180     0.932127     0.593603     0.545812     0.749548   \n",
            "max       2.725864     3.223942     3.532661     5.231793     3.814274   \n",
            "\n",
            "                x6           x7           x8           x9          x10  ...  \\\n",
            "count  3264.000000  3264.000000  3264.000000  3264.000000  3264.000000  ...   \n",
            "mean     -0.055990    -0.071048     0.110057    -0.039071    -0.110402  ...   \n",
            "std       0.916824     0.998030     1.013487     0.812572     0.939323  ...   \n",
            "min      -0.934908    -1.076878    -1.048795    -0.929289    -1.039528  ...   \n",
            "25%      -0.934908    -0.816931    -1.048795    -0.919927    -1.039528  ...   \n",
            "50%      -0.283327    -0.335854     0.092542    -0.099581    -0.357419  ...   \n",
            "75%       0.585535     0.413233     0.937152     0.405588     0.588843  ...   \n",
            "max       4.790517     4.698876     2.758523     3.063246     2.773907  ...   \n",
            "\n",
            "              x248         x249         x250         x251         x252  \\\n",
            "count  3264.000000  3264.000000  3264.000000  3264.000000  3264.000000   \n",
            "mean      0.042286    -0.069302    -0.075941     0.111274    -0.063311   \n",
            "std       1.024120     0.869944     1.014345     1.007270     0.831845   \n",
            "min      -0.783508    -0.877666    -0.932956    -1.049062    -0.965767   \n",
            "25%      -0.783508    -0.877666    -0.863381    -1.049062    -0.844952   \n",
            "50%      -0.515200    -0.319091    -0.365065     0.117323    -0.129394   \n",
            "75%       0.809147     0.504317     0.304781     0.930016     0.333070   \n",
            "max       3.514284     4.699131     5.075081     2.698013     3.258275   \n",
            "\n",
            "              x253         x254         x255         x256        label  \n",
            "count  3264.000000  3264.000000  3264.000000  3264.000000  3264.000000  \n",
            "mean     -0.115492     0.081308    -0.005758    -0.023017     1.421569  \n",
            "std       0.932384     1.056331     0.939202     1.032806     1.167798  \n",
            "min      -1.062281    -0.911335    -1.265504    -1.244573     0.000000  \n",
            "25%      -1.062281    -0.911335    -0.739660    -0.935890     0.000000  \n",
            "50%      -0.342554    -0.254558    -0.041212    -0.068236     1.000000  \n",
            "75%       0.598419     0.895811     0.575592     0.595699     3.000000  \n",
            "max       2.714228     3.226129     3.476898     4.926381     3.000000  \n",
            "\n",
            "[8 rows x 257 columns]\n"
          ]
        }
      ],
      "source": [
        "print(df1.describe())"
      ]
    },
    {
      "cell_type": "markdown",
      "metadata": {
        "id": "w5y9jvp5Z8CL"
      },
      "source": [
        "Kemudian saya mendeskripsikan dataset untuk mendapatkan informasi deskriptif seperti rata-rata, niali minimum, standar deviasi dan lainnya. Dari sini saya berkesimpulan bahwa nilai dari seluruh kolom sudah berada dalam rentang yang sesuai, sehingga tidak diperlukan proses Normalisasi ataupun Standarisasi"
      ]
    },
    {
      "cell_type": "markdown",
      "metadata": {
        "id": "aURtt3zJxgiT"
      },
      "source": [
        "## Feature Engineering"
      ]
    },
    {
      "cell_type": "markdown",
      "metadata": {
        "id": "c3C7gD5uae5P"
      },
      "source": [
        "Feature enginerring bertujuan untuk membuat representasi dari dataset lebih informatif bagi model machine learning. Menghapus beberapa fitur yang memiliki korelasi yang rendah terhadap label."
      ]
    },
    {
      "cell_type": "code",
      "execution_count": 515,
      "metadata": {
        "colab": {
          "base_uri": "https://localhost:8080/"
        },
        "id": "2FfbSi3Rtnzo",
        "outputId": "26d27f4e-6396-4ede-bf99-1776eb22416b"
      },
      "outputs": [
        {
          "name": "stdout",
          "output_type": "stream",
          "text": [
            "Fitur dengan korelasi tertinggi:\n",
            "x68     0.516664\n",
            "x5      0.513077\n",
            "x149    0.510799\n",
            "x14     0.509992\n",
            "x194    0.509926\n",
            "x122    0.506174\n",
            "x131    0.506080\n",
            "x158    0.505445\n",
            "x239    0.505032\n",
            "x50     0.503620\n",
            "x113    0.502250\n",
            "x77     0.502211\n",
            "x59     0.501520\n",
            "x230    0.500831\n",
            "x23     0.499790\n",
            "x185    0.499668\n",
            "x248    0.497150\n",
            "x86     0.496737\n",
            "x95     0.496104\n",
            "x167    0.493905\n",
            "x41     0.490287\n",
            "x32     0.487472\n",
            "x212    0.486240\n",
            "x104    0.486174\n",
            "x176    0.484807\n",
            "x203    0.483716\n",
            "x140    0.482301\n",
            "x110    0.476778\n",
            "x56     0.475370\n",
            "x221    0.472845\n",
            "x155    0.467117\n",
            "x236    0.466831\n",
            "x92     0.466804\n",
            "x65     0.466198\n",
            "x182    0.464035\n",
            "x200    0.462626\n",
            "x209    0.462289\n",
            "x74     0.461283\n",
            "x101    0.458920\n",
            "x245    0.458703\n",
            "x119    0.458535\n",
            "x83     0.458301\n",
            "x254    0.457142\n",
            "x218    0.456222\n",
            "x47     0.455960\n",
            "x2      0.454776\n",
            "x20     0.454681\n",
            "x128    0.449263\n",
            "x29     0.449122\n",
            "x227    0.448177\n",
            "x38     0.447293\n",
            "x191    0.447272\n",
            "x11     0.444639\n",
            "x137    0.442938\n",
            "x164    0.441567\n",
            "x173    0.438921\n",
            "Name: label, dtype: float64\n"
          ]
        }
      ],
      "source": [
        "# Menampilkan fitur dengan korealasi tertinggi\n",
        "top_features = correlation_with_label.head(56)\n",
        "\n",
        "print(\"Fitur dengan korelasi tertinggi:\")\n",
        "print(top_features)"
      ]
    },
    {
      "cell_type": "markdown",
      "metadata": {
        "id": "LWht1qULa8Ks"
      },
      "source": [
        "Dalam correlation maps saya mengambil mencari kolumn x173 sebagai patokan bahwa fitur fitur memiliki korelasi yang tinggi terhadap label  "
      ]
    },
    {
      "cell_type": "code",
      "execution_count": 516,
      "metadata": {
        "id": "LCFA7hbuzE0I"
      },
      "outputs": [],
      "source": [
        "# Memisahkan atribut dengan label\n",
        "X = df1[top_features.index]\n",
        "y = df1['label']"
      ]
    },
    {
      "cell_type": "markdown",
      "metadata": {
        "id": "guPjceGccI7B"
      },
      "source": [
        "Diatas saya melakukan asumsi bahwa tidak diperlukan lagi scaling terhadap fitur dalam dataset, adapun jika saya melakukan scalling terhadap fitur dalam dataset tidak akan mengakibatkan penurunan skor akurasi dari model-model yang saya bangun dibawah.\n",
        "\n",
        "\n",
        "1.   Logistic Regression => 0.593\n",
        "2.   Decision Tree       => 0.602\n",
        "3.   XG-Boost            => 0.651\n",
        "\n"
      ]
    },
    {
      "cell_type": "code",
      "execution_count": 517,
      "metadata": {
        "colab": {
          "base_uri": "https://localhost:8080/",
          "height": 256
        },
        "id": "Z4Js8cV1AxQ2",
        "outputId": "e858bc87-deda-458d-ad03-078824e89e21"
      },
      "outputs": [
        {
          "data": {
            "application/vnd.google.colaboratory.intrinsic+json": {
              "type": "dataframe",
              "variable_name": "scaled_data"
            },
            "text/html": [
              "\n",
              "  <div id=\"df-ec0c5c11-7c87-441a-bcd6-1602165a8dfb\" class=\"colab-df-container\">\n",
              "    <div>\n",
              "<style scoped>\n",
              "    .dataframe tbody tr th:only-of-type {\n",
              "        vertical-align: middle;\n",
              "    }\n",
              "\n",
              "    .dataframe tbody tr th {\n",
              "        vertical-align: top;\n",
              "    }\n",
              "\n",
              "    .dataframe thead th {\n",
              "        text-align: right;\n",
              "    }\n",
              "</style>\n",
              "<table border=\"1\" class=\"dataframe\">\n",
              "  <thead>\n",
              "    <tr style=\"text-align: right;\">\n",
              "      <th></th>\n",
              "      <th>x68</th>\n",
              "      <th>x5</th>\n",
              "      <th>x149</th>\n",
              "      <th>x14</th>\n",
              "      <th>x194</th>\n",
              "      <th>x122</th>\n",
              "      <th>x131</th>\n",
              "      <th>x158</th>\n",
              "      <th>x239</th>\n",
              "      <th>x50</th>\n",
              "      <th>...</th>\n",
              "      <th>x20</th>\n",
              "      <th>x128</th>\n",
              "      <th>x29</th>\n",
              "      <th>x227</th>\n",
              "      <th>x38</th>\n",
              "      <th>x191</th>\n",
              "      <th>x11</th>\n",
              "      <th>x137</th>\n",
              "      <th>x164</th>\n",
              "      <th>x173</th>\n",
              "    </tr>\n",
              "  </thead>\n",
              "  <tbody>\n",
              "    <tr>\n",
              "      <th>0</th>\n",
              "      <td>2.350247</td>\n",
              "      <td>2.323179</td>\n",
              "      <td>2.347186</td>\n",
              "      <td>2.354552</td>\n",
              "      <td>2.322437</td>\n",
              "      <td>2.338606</td>\n",
              "      <td>2.348575</td>\n",
              "      <td>2.365374</td>\n",
              "      <td>2.358873</td>\n",
              "      <td>2.344589</td>\n",
              "      <td>...</td>\n",
              "      <td>1.916507</td>\n",
              "      <td>1.889458</td>\n",
              "      <td>1.864105</td>\n",
              "      <td>1.877167</td>\n",
              "      <td>1.874266</td>\n",
              "      <td>1.802113</td>\n",
              "      <td>1.859025</td>\n",
              "      <td>1.817427</td>\n",
              "      <td>1.855474</td>\n",
              "      <td>1.839525</td>\n",
              "    </tr>\n",
              "    <tr>\n",
              "      <th>1</th>\n",
              "      <td>-0.766282</td>\n",
              "      <td>-0.779338</td>\n",
              "      <td>-0.783475</td>\n",
              "      <td>-0.774503</td>\n",
              "      <td>-0.776242</td>\n",
              "      <td>-0.789849</td>\n",
              "      <td>-0.791776</td>\n",
              "      <td>-0.789378</td>\n",
              "      <td>-0.781138</td>\n",
              "      <td>-0.787736</td>\n",
              "      <td>...</td>\n",
              "      <td>-0.942231</td>\n",
              "      <td>-0.947228</td>\n",
              "      <td>-0.961778</td>\n",
              "      <td>-0.958807</td>\n",
              "      <td>-0.952949</td>\n",
              "      <td>-1.052628</td>\n",
              "      <td>-0.968493</td>\n",
              "      <td>-0.979415</td>\n",
              "      <td>-0.963532</td>\n",
              "      <td>-0.973566</td>\n",
              "    </tr>\n",
              "    <tr>\n",
              "      <th>2</th>\n",
              "      <td>-0.766282</td>\n",
              "      <td>-0.779338</td>\n",
              "      <td>-0.783475</td>\n",
              "      <td>-0.774503</td>\n",
              "      <td>-0.776242</td>\n",
              "      <td>-0.789849</td>\n",
              "      <td>-0.791776</td>\n",
              "      <td>-0.789378</td>\n",
              "      <td>-0.781138</td>\n",
              "      <td>-0.787736</td>\n",
              "      <td>...</td>\n",
              "      <td>-0.942231</td>\n",
              "      <td>-0.947228</td>\n",
              "      <td>-0.961778</td>\n",
              "      <td>-0.958807</td>\n",
              "      <td>-0.952949</td>\n",
              "      <td>-0.955420</td>\n",
              "      <td>-0.968493</td>\n",
              "      <td>-0.979415</td>\n",
              "      <td>-0.963532</td>\n",
              "      <td>-0.973566</td>\n",
              "    </tr>\n",
              "    <tr>\n",
              "      <th>3</th>\n",
              "      <td>1.008232</td>\n",
              "      <td>1.039280</td>\n",
              "      <td>1.092980</td>\n",
              "      <td>1.025759</td>\n",
              "      <td>1.006530</td>\n",
              "      <td>1.105111</td>\n",
              "      <td>1.125918</td>\n",
              "      <td>1.140821</td>\n",
              "      <td>1.085421</td>\n",
              "      <td>1.094666</td>\n",
              "      <td>...</td>\n",
              "      <td>1.247587</td>\n",
              "      <td>1.229415</td>\n",
              "      <td>1.203284</td>\n",
              "      <td>1.210430</td>\n",
              "      <td>1.239292</td>\n",
              "      <td>1.165972</td>\n",
              "      <td>1.227692</td>\n",
              "      <td>1.158231</td>\n",
              "      <td>1.190463</td>\n",
              "      <td>1.178475</td>\n",
              "    </tr>\n",
              "    <tr>\n",
              "      <th>4</th>\n",
              "      <td>-0.766282</td>\n",
              "      <td>-0.779338</td>\n",
              "      <td>-0.783475</td>\n",
              "      <td>-0.774503</td>\n",
              "      <td>-0.776242</td>\n",
              "      <td>-0.789849</td>\n",
              "      <td>-0.791776</td>\n",
              "      <td>-0.789378</td>\n",
              "      <td>-0.781138</td>\n",
              "      <td>-0.787736</td>\n",
              "      <td>...</td>\n",
              "      <td>-0.942231</td>\n",
              "      <td>-0.947228</td>\n",
              "      <td>-0.961778</td>\n",
              "      <td>-0.958807</td>\n",
              "      <td>-0.952949</td>\n",
              "      <td>-1.052628</td>\n",
              "      <td>-0.968493</td>\n",
              "      <td>-0.979415</td>\n",
              "      <td>-0.963532</td>\n",
              "      <td>-0.973566</td>\n",
              "    </tr>\n",
              "  </tbody>\n",
              "</table>\n",
              "<p>5 rows × 56 columns</p>\n",
              "</div>\n",
              "    <div class=\"colab-df-buttons\">\n",
              "\n",
              "  <div class=\"colab-df-container\">\n",
              "    <button class=\"colab-df-convert\" onclick=\"convertToInteractive('df-ec0c5c11-7c87-441a-bcd6-1602165a8dfb')\"\n",
              "            title=\"Convert this dataframe to an interactive table.\"\n",
              "            style=\"display:none;\">\n",
              "\n",
              "  <svg xmlns=\"http://www.w3.org/2000/svg\" height=\"24px\" viewBox=\"0 -960 960 960\">\n",
              "    <path d=\"M120-120v-720h720v720H120Zm60-500h600v-160H180v160Zm220 220h160v-160H400v160Zm0 220h160v-160H400v160ZM180-400h160v-160H180v160Zm440 0h160v-160H620v160ZM180-180h160v-160H180v160Zm440 0h160v-160H620v160Z\"/>\n",
              "  </svg>\n",
              "    </button>\n",
              "\n",
              "  <style>\n",
              "    .colab-df-container {\n",
              "      display:flex;\n",
              "      gap: 12px;\n",
              "    }\n",
              "\n",
              "    .colab-df-convert {\n",
              "      background-color: #E8F0FE;\n",
              "      border: none;\n",
              "      border-radius: 50%;\n",
              "      cursor: pointer;\n",
              "      display: none;\n",
              "      fill: #1967D2;\n",
              "      height: 32px;\n",
              "      padding: 0 0 0 0;\n",
              "      width: 32px;\n",
              "    }\n",
              "\n",
              "    .colab-df-convert:hover {\n",
              "      background-color: #E2EBFA;\n",
              "      box-shadow: 0px 1px 2px rgba(60, 64, 67, 0.3), 0px 1px 3px 1px rgba(60, 64, 67, 0.15);\n",
              "      fill: #174EA6;\n",
              "    }\n",
              "\n",
              "    .colab-df-buttons div {\n",
              "      margin-bottom: 4px;\n",
              "    }\n",
              "\n",
              "    [theme=dark] .colab-df-convert {\n",
              "      background-color: #3B4455;\n",
              "      fill: #D2E3FC;\n",
              "    }\n",
              "\n",
              "    [theme=dark] .colab-df-convert:hover {\n",
              "      background-color: #434B5C;\n",
              "      box-shadow: 0px 1px 3px 1px rgba(0, 0, 0, 0.15);\n",
              "      filter: drop-shadow(0px 1px 2px rgba(0, 0, 0, 0.3));\n",
              "      fill: #FFFFFF;\n",
              "    }\n",
              "  </style>\n",
              "\n",
              "    <script>\n",
              "      const buttonEl =\n",
              "        document.querySelector('#df-ec0c5c11-7c87-441a-bcd6-1602165a8dfb button.colab-df-convert');\n",
              "      buttonEl.style.display =\n",
              "        google.colab.kernel.accessAllowed ? 'block' : 'none';\n",
              "\n",
              "      async function convertToInteractive(key) {\n",
              "        const element = document.querySelector('#df-ec0c5c11-7c87-441a-bcd6-1602165a8dfb');\n",
              "        const dataTable =\n",
              "          await google.colab.kernel.invokeFunction('convertToInteractive',\n",
              "                                                    [key], {});\n",
              "        if (!dataTable) return;\n",
              "\n",
              "        const docLinkHtml = 'Like what you see? Visit the ' +\n",
              "          '<a target=\"_blank\" href=https://colab.research.google.com/notebooks/data_table.ipynb>data table notebook</a>'\n",
              "          + ' to learn more about interactive tables.';\n",
              "        element.innerHTML = '';\n",
              "        dataTable['output_type'] = 'display_data';\n",
              "        await google.colab.output.renderOutput(dataTable, element);\n",
              "        const docLink = document.createElement('div');\n",
              "        docLink.innerHTML = docLinkHtml;\n",
              "        element.appendChild(docLink);\n",
              "      }\n",
              "    </script>\n",
              "  </div>\n",
              "\n",
              "\n",
              "<div id=\"df-15b89df8-5306-409a-9708-a38ccec21d21\">\n",
              "  <button class=\"colab-df-quickchart\" onclick=\"quickchart('df-15b89df8-5306-409a-9708-a38ccec21d21')\"\n",
              "            title=\"Suggest charts\"\n",
              "            style=\"display:none;\">\n",
              "\n",
              "<svg xmlns=\"http://www.w3.org/2000/svg\" height=\"24px\"viewBox=\"0 0 24 24\"\n",
              "     width=\"24px\">\n",
              "    <g>\n",
              "        <path d=\"M19 3H5c-1.1 0-2 .9-2 2v14c0 1.1.9 2 2 2h14c1.1 0 2-.9 2-2V5c0-1.1-.9-2-2-2zM9 17H7v-7h2v7zm4 0h-2V7h2v10zm4 0h-2v-4h2v4z\"/>\n",
              "    </g>\n",
              "</svg>\n",
              "  </button>\n",
              "\n",
              "<style>\n",
              "  .colab-df-quickchart {\n",
              "      --bg-color: #E8F0FE;\n",
              "      --fill-color: #1967D2;\n",
              "      --hover-bg-color: #E2EBFA;\n",
              "      --hover-fill-color: #174EA6;\n",
              "      --disabled-fill-color: #AAA;\n",
              "      --disabled-bg-color: #DDD;\n",
              "  }\n",
              "\n",
              "  [theme=dark] .colab-df-quickchart {\n",
              "      --bg-color: #3B4455;\n",
              "      --fill-color: #D2E3FC;\n",
              "      --hover-bg-color: #434B5C;\n",
              "      --hover-fill-color: #FFFFFF;\n",
              "      --disabled-bg-color: #3B4455;\n",
              "      --disabled-fill-color: #666;\n",
              "  }\n",
              "\n",
              "  .colab-df-quickchart {\n",
              "    background-color: var(--bg-color);\n",
              "    border: none;\n",
              "    border-radius: 50%;\n",
              "    cursor: pointer;\n",
              "    display: none;\n",
              "    fill: var(--fill-color);\n",
              "    height: 32px;\n",
              "    padding: 0;\n",
              "    width: 32px;\n",
              "  }\n",
              "\n",
              "  .colab-df-quickchart:hover {\n",
              "    background-color: var(--hover-bg-color);\n",
              "    box-shadow: 0 1px 2px rgba(60, 64, 67, 0.3), 0 1px 3px 1px rgba(60, 64, 67, 0.15);\n",
              "    fill: var(--button-hover-fill-color);\n",
              "  }\n",
              "\n",
              "  .colab-df-quickchart-complete:disabled,\n",
              "  .colab-df-quickchart-complete:disabled:hover {\n",
              "    background-color: var(--disabled-bg-color);\n",
              "    fill: var(--disabled-fill-color);\n",
              "    box-shadow: none;\n",
              "  }\n",
              "\n",
              "  .colab-df-spinner {\n",
              "    border: 2px solid var(--fill-color);\n",
              "    border-color: transparent;\n",
              "    border-bottom-color: var(--fill-color);\n",
              "    animation:\n",
              "      spin 1s steps(1) infinite;\n",
              "  }\n",
              "\n",
              "  @keyframes spin {\n",
              "    0% {\n",
              "      border-color: transparent;\n",
              "      border-bottom-color: var(--fill-color);\n",
              "      border-left-color: var(--fill-color);\n",
              "    }\n",
              "    20% {\n",
              "      border-color: transparent;\n",
              "      border-left-color: var(--fill-color);\n",
              "      border-top-color: var(--fill-color);\n",
              "    }\n",
              "    30% {\n",
              "      border-color: transparent;\n",
              "      border-left-color: var(--fill-color);\n",
              "      border-top-color: var(--fill-color);\n",
              "      border-right-color: var(--fill-color);\n",
              "    }\n",
              "    40% {\n",
              "      border-color: transparent;\n",
              "      border-right-color: var(--fill-color);\n",
              "      border-top-color: var(--fill-color);\n",
              "    }\n",
              "    60% {\n",
              "      border-color: transparent;\n",
              "      border-right-color: var(--fill-color);\n",
              "    }\n",
              "    80% {\n",
              "      border-color: transparent;\n",
              "      border-right-color: var(--fill-color);\n",
              "      border-bottom-color: var(--fill-color);\n",
              "    }\n",
              "    90% {\n",
              "      border-color: transparent;\n",
              "      border-bottom-color: var(--fill-color);\n",
              "    }\n",
              "  }\n",
              "</style>\n",
              "\n",
              "  <script>\n",
              "    async function quickchart(key) {\n",
              "      const quickchartButtonEl =\n",
              "        document.querySelector('#' + key + ' button');\n",
              "      quickchartButtonEl.disabled = true;  // To prevent multiple clicks.\n",
              "      quickchartButtonEl.classList.add('colab-df-spinner');\n",
              "      try {\n",
              "        const charts = await google.colab.kernel.invokeFunction(\n",
              "            'suggestCharts', [key], {});\n",
              "      } catch (error) {\n",
              "        console.error('Error during call to suggestCharts:', error);\n",
              "      }\n",
              "      quickchartButtonEl.classList.remove('colab-df-spinner');\n",
              "      quickchartButtonEl.classList.add('colab-df-quickchart-complete');\n",
              "    }\n",
              "    (() => {\n",
              "      let quickchartButtonEl =\n",
              "        document.querySelector('#df-15b89df8-5306-409a-9708-a38ccec21d21 button');\n",
              "      quickchartButtonEl.style.display =\n",
              "        google.colab.kernel.accessAllowed ? 'block' : 'none';\n",
              "    })();\n",
              "  </script>\n",
              "</div>\n",
              "    </div>\n",
              "  </div>\n"
            ],
            "text/plain": [
              "        x68        x5      x149       x14      x194      x122      x131  \\\n",
              "0  2.350247  2.323179  2.347186  2.354552  2.322437  2.338606  2.348575   \n",
              "1 -0.766282 -0.779338 -0.783475 -0.774503 -0.776242 -0.789849 -0.791776   \n",
              "2 -0.766282 -0.779338 -0.783475 -0.774503 -0.776242 -0.789849 -0.791776   \n",
              "3  1.008232  1.039280  1.092980  1.025759  1.006530  1.105111  1.125918   \n",
              "4 -0.766282 -0.779338 -0.783475 -0.774503 -0.776242 -0.789849 -0.791776   \n",
              "\n",
              "       x158      x239       x50  ...       x20      x128       x29      x227  \\\n",
              "0  2.365374  2.358873  2.344589  ...  1.916507  1.889458  1.864105  1.877167   \n",
              "1 -0.789378 -0.781138 -0.787736  ... -0.942231 -0.947228 -0.961778 -0.958807   \n",
              "2 -0.789378 -0.781138 -0.787736  ... -0.942231 -0.947228 -0.961778 -0.958807   \n",
              "3  1.140821  1.085421  1.094666  ...  1.247587  1.229415  1.203284  1.210430   \n",
              "4 -0.789378 -0.781138 -0.787736  ... -0.942231 -0.947228 -0.961778 -0.958807   \n",
              "\n",
              "        x38      x191       x11      x137      x164      x173  \n",
              "0  1.874266  1.802113  1.859025  1.817427  1.855474  1.839525  \n",
              "1 -0.952949 -1.052628 -0.968493 -0.979415 -0.963532 -0.973566  \n",
              "2 -0.952949 -0.955420 -0.968493 -0.979415 -0.963532 -0.973566  \n",
              "3  1.239292  1.165972  1.227692  1.158231  1.190463  1.178475  \n",
              "4 -0.952949 -1.052628 -0.968493 -0.979415 -0.963532 -0.973566  \n",
              "\n",
              "[5 rows x 56 columns]"
            ]
          },
          "execution_count": 517,
          "metadata": {},
          "output_type": "execute_result"
        }
      ],
      "source": [
        "# Standarisasi\n",
        "from sklearn.preprocessing import StandardScaler\n",
        "scaler = StandardScaler()\n",
        "scaler.fit(X)\n",
        "scaled_data = scaler.transform(X)\n",
        "scaled_data = pd.DataFrame(scaled_data, columns= X.columns)\n",
        "scaled_data.head()"
      ]
    },
    {
      "cell_type": "markdown",
      "metadata": {
        "id": "11hCl-zVCPhd"
      },
      "source": [
        "## Splitting Dataset"
      ]
    },
    {
      "cell_type": "code",
      "execution_count": 518,
      "metadata": {
        "id": "iIL8TXIH2c8d"
      },
      "outputs": [],
      "source": [
        "from sklearn.model_selection import train_test_split\n",
        "\n",
        "# bagi data menjadi train dan test untuk setiap atribut dan label\n",
        "X_train, X_test, y_train, y_test = train_test_split(X, y, test_size=0.2, random_state=42)\n",
        "\n",
        "# untuk fitur yang di lakukan standarisasi\n",
        "# UNCOMMENT UNTUK DEMO\n",
        "# X_train, X_test, y_train, y_test = train_test_split(scaled_data, y, test_size=0.2, random_state=42)"
      ]
    },
    {
      "cell_type": "markdown",
      "metadata": {
        "id": "KEnMw43gCVW8"
      },
      "source": [
        "## Logistic Regression"
      ]
    },
    {
      "cell_type": "code",
      "execution_count": 519,
      "metadata": {
        "colab": {
          "base_uri": "https://localhost:8080/",
          "height": 214
        },
        "id": "KN7gTNpI9YLl",
        "outputId": "b966c34a-c458-4a9a-ede1-897978146c1e"
      },
      "outputs": [
        {
          "name": "stderr",
          "output_type": "stream",
          "text": [
            "/usr/local/lib/python3.10/dist-packages/sklearn/linear_model/_logistic.py:458: ConvergenceWarning: lbfgs failed to converge (status=1):\n",
            "STOP: TOTAL NO. of ITERATIONS REACHED LIMIT.\n",
            "\n",
            "Increase the number of iterations (max_iter) or scale the data as shown in:\n",
            "    https://scikit-learn.org/stable/modules/preprocessing.html\n",
            "Please also refer to the documentation for alternative solver options:\n",
            "    https://scikit-learn.org/stable/modules/linear_model.html#logistic-regression\n",
            "  n_iter_i = _check_optimize_result(\n"
          ]
        },
        {
          "data": {
            "text/html": [
              "<style>#sk-container-id-33 {color: black;background-color: white;}#sk-container-id-33 pre{padding: 0;}#sk-container-id-33 div.sk-toggleable {background-color: white;}#sk-container-id-33 label.sk-toggleable__label {cursor: pointer;display: block;width: 100%;margin-bottom: 0;padding: 0.3em;box-sizing: border-box;text-align: center;}#sk-container-id-33 label.sk-toggleable__label-arrow:before {content: \"▸\";float: left;margin-right: 0.25em;color: #696969;}#sk-container-id-33 label.sk-toggleable__label-arrow:hover:before {color: black;}#sk-container-id-33 div.sk-estimator:hover label.sk-toggleable__label-arrow:before {color: black;}#sk-container-id-33 div.sk-toggleable__content {max-height: 0;max-width: 0;overflow: hidden;text-align: left;background-color: #f0f8ff;}#sk-container-id-33 div.sk-toggleable__content pre {margin: 0.2em;color: black;border-radius: 0.25em;background-color: #f0f8ff;}#sk-container-id-33 input.sk-toggleable__control:checked~div.sk-toggleable__content {max-height: 200px;max-width: 100%;overflow: auto;}#sk-container-id-33 input.sk-toggleable__control:checked~label.sk-toggleable__label-arrow:before {content: \"▾\";}#sk-container-id-33 div.sk-estimator input.sk-toggleable__control:checked~label.sk-toggleable__label {background-color: #d4ebff;}#sk-container-id-33 div.sk-label input.sk-toggleable__control:checked~label.sk-toggleable__label {background-color: #d4ebff;}#sk-container-id-33 input.sk-hidden--visually {border: 0;clip: rect(1px 1px 1px 1px);clip: rect(1px, 1px, 1px, 1px);height: 1px;margin: -1px;overflow: hidden;padding: 0;position: absolute;width: 1px;}#sk-container-id-33 div.sk-estimator {font-family: monospace;background-color: #f0f8ff;border: 1px dotted black;border-radius: 0.25em;box-sizing: border-box;margin-bottom: 0.5em;}#sk-container-id-33 div.sk-estimator:hover {background-color: #d4ebff;}#sk-container-id-33 div.sk-parallel-item::after {content: \"\";width: 100%;border-bottom: 1px solid gray;flex-grow: 1;}#sk-container-id-33 div.sk-label:hover label.sk-toggleable__label {background-color: #d4ebff;}#sk-container-id-33 div.sk-serial::before {content: \"\";position: absolute;border-left: 1px solid gray;box-sizing: border-box;top: 0;bottom: 0;left: 50%;z-index: 0;}#sk-container-id-33 div.sk-serial {display: flex;flex-direction: column;align-items: center;background-color: white;padding-right: 0.2em;padding-left: 0.2em;position: relative;}#sk-container-id-33 div.sk-item {position: relative;z-index: 1;}#sk-container-id-33 div.sk-parallel {display: flex;align-items: stretch;justify-content: center;background-color: white;position: relative;}#sk-container-id-33 div.sk-item::before, #sk-container-id-33 div.sk-parallel-item::before {content: \"\";position: absolute;border-left: 1px solid gray;box-sizing: border-box;top: 0;bottom: 0;left: 50%;z-index: -1;}#sk-container-id-33 div.sk-parallel-item {display: flex;flex-direction: column;z-index: 1;position: relative;background-color: white;}#sk-container-id-33 div.sk-parallel-item:first-child::after {align-self: flex-end;width: 50%;}#sk-container-id-33 div.sk-parallel-item:last-child::after {align-self: flex-start;width: 50%;}#sk-container-id-33 div.sk-parallel-item:only-child::after {width: 0;}#sk-container-id-33 div.sk-dashed-wrapped {border: 1px dashed gray;margin: 0 0.4em 0.5em 0.4em;box-sizing: border-box;padding-bottom: 0.4em;background-color: white;}#sk-container-id-33 div.sk-label label {font-family: monospace;font-weight: bold;display: inline-block;line-height: 1.2em;}#sk-container-id-33 div.sk-label-container {text-align: center;}#sk-container-id-33 div.sk-container {/* jupyter's `normalize.less` sets `[hidden] { display: none; }` but bootstrap.min.css set `[hidden] { display: none !important; }` so we also need the `!important` here to be able to override the default hidden behavior on the sphinx rendered scikit-learn.org. See: https://github.com/scikit-learn/scikit-learn/issues/21755 */display: inline-block !important;position: relative;}#sk-container-id-33 div.sk-text-repr-fallback {display: none;}</style><div id=\"sk-container-id-33\" class=\"sk-top-container\"><div class=\"sk-text-repr-fallback\"><pre>LogisticRegression()</pre><b>In a Jupyter environment, please rerun this cell to show the HTML representation or trust the notebook. <br />On GitHub, the HTML representation is unable to render, please try loading this page with nbviewer.org.</b></div><div class=\"sk-container\" hidden><div class=\"sk-item\"><div class=\"sk-estimator sk-toggleable\"><input class=\"sk-toggleable__control sk-hidden--visually\" id=\"sk-estimator-id-33\" type=\"checkbox\" checked><label for=\"sk-estimator-id-33\" class=\"sk-toggleable__label sk-toggleable__label-arrow\">LogisticRegression</label><div class=\"sk-toggleable__content\"><pre>LogisticRegression()</pre></div></div></div></div></div>"
            ],
            "text/plain": [
              "LogisticRegression()"
            ]
          },
          "execution_count": 519,
          "metadata": {},
          "output_type": "execute_result"
        }
      ],
      "source": [
        "from sklearn.linear_model import LogisticRegression\n",
        "model = LogisticRegression()\n",
        "model.fit(X_train, y_train)"
      ]
    },
    {
      "cell_type": "code",
      "execution_count": 520,
      "metadata": {
        "id": "_tEByWoy9bAa"
      },
      "outputs": [],
      "source": [
        "pred = model.predict(X_test)"
      ]
    },
    {
      "cell_type": "code",
      "execution_count": 521,
      "metadata": {
        "colab": {
          "base_uri": "https://localhost:8080/"
        },
        "id": "IU4FAtpx9d7a",
        "outputId": "acb49fb4-e332-4473-cbed-2d960a7760eb"
      },
      "outputs": [
        {
          "name": "stdout",
          "output_type": "stream",
          "text": [
            "Accuracy: 0.597\n"
          ]
        }
      ],
      "source": [
        "accuracy = round(accuracy_score(pred, y_test), 3)\n",
        "print(\"Accuracy:\", accuracy)"
      ]
    },
    {
      "cell_type": "markdown",
      "metadata": {
        "id": "NDTEzS1pCdO7"
      },
      "source": [
        "## Decision Tree"
      ]
    },
    {
      "cell_type": "code",
      "execution_count": 522,
      "metadata": {
        "id": "iyFyTfpp9gLq"
      },
      "outputs": [],
      "source": [
        "from sklearn.tree import DecisionTreeClassifier\n",
        "tree_model = DecisionTreeClassifier()\n",
        "tree_model = tree_model.fit(X_train, y_train)"
      ]
    },
    {
      "cell_type": "code",
      "execution_count": 523,
      "metadata": {
        "id": "0DgxKNkFCl-q"
      },
      "outputs": [],
      "source": [
        "pred = tree_model.predict(X_test)"
      ]
    },
    {
      "cell_type": "code",
      "execution_count": 524,
      "metadata": {
        "colab": {
          "base_uri": "https://localhost:8080/"
        },
        "id": "Ie1TwUV7BjPX",
        "outputId": "58d6aacb-5955-4076-ec27-20d0577b5990"
      },
      "outputs": [
        {
          "name": "stdout",
          "output_type": "stream",
          "text": [
            "Accuracy:  0.6\n"
          ]
        }
      ],
      "source": [
        "accuracy = round(accuracy_score(pred, y_test), 3)\n",
        "print('Accuracy: ', accuracy)"
      ]
    },
    {
      "cell_type": "markdown",
      "metadata": {
        "id": "jY1twa_yHc2Y"
      },
      "source": [
        "## XG-Boost"
      ]
    },
    {
      "cell_type": "code",
      "execution_count": 525,
      "metadata": {
        "colab": {
          "base_uri": "https://localhost:8080/",
          "height": 248
        },
        "id": "o84itEPfG0Ab",
        "outputId": "ba664572-9a17-4444-f318-9f093a91a2f0"
      },
      "outputs": [
        {
          "data": {
            "text/html": [
              "<style>#sk-container-id-34 {color: black;background-color: white;}#sk-container-id-34 pre{padding: 0;}#sk-container-id-34 div.sk-toggleable {background-color: white;}#sk-container-id-34 label.sk-toggleable__label {cursor: pointer;display: block;width: 100%;margin-bottom: 0;padding: 0.3em;box-sizing: border-box;text-align: center;}#sk-container-id-34 label.sk-toggleable__label-arrow:before {content: \"▸\";float: left;margin-right: 0.25em;color: #696969;}#sk-container-id-34 label.sk-toggleable__label-arrow:hover:before {color: black;}#sk-container-id-34 div.sk-estimator:hover label.sk-toggleable__label-arrow:before {color: black;}#sk-container-id-34 div.sk-toggleable__content {max-height: 0;max-width: 0;overflow: hidden;text-align: left;background-color: #f0f8ff;}#sk-container-id-34 div.sk-toggleable__content pre {margin: 0.2em;color: black;border-radius: 0.25em;background-color: #f0f8ff;}#sk-container-id-34 input.sk-toggleable__control:checked~div.sk-toggleable__content {max-height: 200px;max-width: 100%;overflow: auto;}#sk-container-id-34 input.sk-toggleable__control:checked~label.sk-toggleable__label-arrow:before {content: \"▾\";}#sk-container-id-34 div.sk-estimator input.sk-toggleable__control:checked~label.sk-toggleable__label {background-color: #d4ebff;}#sk-container-id-34 div.sk-label input.sk-toggleable__control:checked~label.sk-toggleable__label {background-color: #d4ebff;}#sk-container-id-34 input.sk-hidden--visually {border: 0;clip: rect(1px 1px 1px 1px);clip: rect(1px, 1px, 1px, 1px);height: 1px;margin: -1px;overflow: hidden;padding: 0;position: absolute;width: 1px;}#sk-container-id-34 div.sk-estimator {font-family: monospace;background-color: #f0f8ff;border: 1px dotted black;border-radius: 0.25em;box-sizing: border-box;margin-bottom: 0.5em;}#sk-container-id-34 div.sk-estimator:hover {background-color: #d4ebff;}#sk-container-id-34 div.sk-parallel-item::after {content: \"\";width: 100%;border-bottom: 1px solid gray;flex-grow: 1;}#sk-container-id-34 div.sk-label:hover label.sk-toggleable__label {background-color: #d4ebff;}#sk-container-id-34 div.sk-serial::before {content: \"\";position: absolute;border-left: 1px solid gray;box-sizing: border-box;top: 0;bottom: 0;left: 50%;z-index: 0;}#sk-container-id-34 div.sk-serial {display: flex;flex-direction: column;align-items: center;background-color: white;padding-right: 0.2em;padding-left: 0.2em;position: relative;}#sk-container-id-34 div.sk-item {position: relative;z-index: 1;}#sk-container-id-34 div.sk-parallel {display: flex;align-items: stretch;justify-content: center;background-color: white;position: relative;}#sk-container-id-34 div.sk-item::before, #sk-container-id-34 div.sk-parallel-item::before {content: \"\";position: absolute;border-left: 1px solid gray;box-sizing: border-box;top: 0;bottom: 0;left: 50%;z-index: -1;}#sk-container-id-34 div.sk-parallel-item {display: flex;flex-direction: column;z-index: 1;position: relative;background-color: white;}#sk-container-id-34 div.sk-parallel-item:first-child::after {align-self: flex-end;width: 50%;}#sk-container-id-34 div.sk-parallel-item:last-child::after {align-self: flex-start;width: 50%;}#sk-container-id-34 div.sk-parallel-item:only-child::after {width: 0;}#sk-container-id-34 div.sk-dashed-wrapped {border: 1px dashed gray;margin: 0 0.4em 0.5em 0.4em;box-sizing: border-box;padding-bottom: 0.4em;background-color: white;}#sk-container-id-34 div.sk-label label {font-family: monospace;font-weight: bold;display: inline-block;line-height: 1.2em;}#sk-container-id-34 div.sk-label-container {text-align: center;}#sk-container-id-34 div.sk-container {/* jupyter's `normalize.less` sets `[hidden] { display: none; }` but bootstrap.min.css set `[hidden] { display: none !important; }` so we also need the `!important` here to be able to override the default hidden behavior on the sphinx rendered scikit-learn.org. See: https://github.com/scikit-learn/scikit-learn/issues/21755 */display: inline-block !important;position: relative;}#sk-container-id-34 div.sk-text-repr-fallback {display: none;}</style><div id=\"sk-container-id-34\" class=\"sk-top-container\"><div class=\"sk-text-repr-fallback\"><pre>XGBClassifier(base_score=None, booster=None, callbacks=None,\n",
              "              colsample_bylevel=None, colsample_bynode=None,\n",
              "              colsample_bytree=None, device=None, early_stopping_rounds=None,\n",
              "              enable_categorical=False, eval_metric=None, feature_types=None,\n",
              "              gamma=None, grow_policy=None, importance_type=None,\n",
              "              interaction_constraints=None, learning_rate=None, max_bin=None,\n",
              "              max_cat_threshold=None, max_cat_to_onehot=None,\n",
              "              max_delta_step=None, max_depth=None, max_leaves=None,\n",
              "              min_child_weight=None, missing=nan, monotone_constraints=None,\n",
              "              multi_strategy=None, n_estimators=None, n_jobs=None,\n",
              "              num_parallel_tree=None, objective=&#x27;multi:softprob&#x27;, ...)</pre><b>In a Jupyter environment, please rerun this cell to show the HTML representation or trust the notebook. <br />On GitHub, the HTML representation is unable to render, please try loading this page with nbviewer.org.</b></div><div class=\"sk-container\" hidden><div class=\"sk-item\"><div class=\"sk-estimator sk-toggleable\"><input class=\"sk-toggleable__control sk-hidden--visually\" id=\"sk-estimator-id-34\" type=\"checkbox\" checked><label for=\"sk-estimator-id-34\" class=\"sk-toggleable__label sk-toggleable__label-arrow\">XGBClassifier</label><div class=\"sk-toggleable__content\"><pre>XGBClassifier(base_score=None, booster=None, callbacks=None,\n",
              "              colsample_bylevel=None, colsample_bynode=None,\n",
              "              colsample_bytree=None, device=None, early_stopping_rounds=None,\n",
              "              enable_categorical=False, eval_metric=None, feature_types=None,\n",
              "              gamma=None, grow_policy=None, importance_type=None,\n",
              "              interaction_constraints=None, learning_rate=None, max_bin=None,\n",
              "              max_cat_threshold=None, max_cat_to_onehot=None,\n",
              "              max_delta_step=None, max_depth=None, max_leaves=None,\n",
              "              min_child_weight=None, missing=nan, monotone_constraints=None,\n",
              "              multi_strategy=None, n_estimators=None, n_jobs=None,\n",
              "              num_parallel_tree=None, objective=&#x27;multi:softprob&#x27;, ...)</pre></div></div></div></div></div>"
            ],
            "text/plain": [
              "XGBClassifier(base_score=None, booster=None, callbacks=None,\n",
              "              colsample_bylevel=None, colsample_bynode=None,\n",
              "              colsample_bytree=None, device=None, early_stopping_rounds=None,\n",
              "              enable_categorical=False, eval_metric=None, feature_types=None,\n",
              "              gamma=None, grow_policy=None, importance_type=None,\n",
              "              interaction_constraints=None, learning_rate=None, max_bin=None,\n",
              "              max_cat_threshold=None, max_cat_to_onehot=None,\n",
              "              max_delta_step=None, max_depth=None, max_leaves=None,\n",
              "              min_child_weight=None, missing=nan, monotone_constraints=None,\n",
              "              multi_strategy=None, n_estimators=None, n_jobs=None,\n",
              "              num_parallel_tree=None, objective='multi:softprob', ...)"
            ]
          },
          "execution_count": 525,
          "metadata": {},
          "output_type": "execute_result"
        }
      ],
      "source": [
        "import xgboost as xgb\n",
        "xg_model = xgb.XGBClassifier()\n",
        "xg_model.fit(X_train, y_train)"
      ]
    },
    {
      "cell_type": "code",
      "execution_count": 526,
      "metadata": {
        "id": "UDQo6TvXHmeN"
      },
      "outputs": [],
      "source": [
        "pred = xg_model.predict(X_test)"
      ]
    },
    {
      "cell_type": "code",
      "execution_count": 527,
      "metadata": {
        "colab": {
          "base_uri": "https://localhost:8080/"
        },
        "id": "esqT13J1HB91",
        "outputId": "47035d29-d882-4db4-b8aa-af0c9e4e4aee"
      },
      "outputs": [
        {
          "name": "stdout",
          "output_type": "stream",
          "text": [
            "Accuracy:  0.651\n"
          ]
        }
      ],
      "source": [
        "accuracy = round(accuracy_score(pred, y_test), 3)\n",
        "print('Accuracy: ', accuracy)"
      ]
    },
    {
      "cell_type": "markdown",
      "metadata": {
        "id": "rWcELt5eI_KI"
      },
      "source": [
        "## Kesimpulan\n",
        "\n",
        "Dataset yang diberikan merupakan dataset multiple classification. Dataset ini cocok digunakan dalam membuat model prediksi klasifikasi. Dataset memiliki kolom label dengan value [0,1,2,3] yang merupakan label dan 256 kolom fitur. Tidak semua dari kolom tersebut memiliki hubungan yang kuat untuk memengaruhi kategori atau label. Maka dari itu dibutuhkan correlation maps untuk memetakan mana fitur yang memiliki korelasi yang tinggi terhadap label. Setelah itu fitur yang memiliki korelasi tinggi tersebut digunakan untuk melatih model Machine Learning. Sebelum melatih model, data dibagi jadi data latih dan data uji dengan perbandingan 4:1 atau 20% sebagai data uji.\n",
        "\n",
        "Saya melatih model Regresi Logistik, Decision tree, dan XG-Boost. Akurasi dari regresi logistik yang paling kecil disini karena keterbatasan model dalam menangani kelas yang tidak seimbang atau hubungan non-linier antara fitur dan label. Decision Tree cenderung lebih fleksibel dalam menangani hubungan non-linier dan interaksi antar fitur, tetapi cenderung overfitting jika tidak diatur dengan baik.  XGBoost memberikan akurasi yang paling tinggi di antara ketiga model. XGBoost adalah model ensemble yang kuat dan cenderung memberikan hasil yang baik dalam berbagai jenis masalah klasifikasi."
      ]
    },
    {
      "cell_type": "code",
      "execution_count": 527,
      "metadata": {
        "id": "sZABiGNzJTw-"
      },
      "outputs": [],
      "source": []
    }
  ],
  "metadata": {
    "colab": {
      "provenance": []
    },
    "kernelspec": {
      "display_name": "Python 3",
      "name": "python3"
    },
    "language_info": {
      "name": "python"
    }
  },
  "nbformat": 4,
  "nbformat_minor": 0
}
